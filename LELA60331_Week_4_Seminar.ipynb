{
  "cells": [
    {
      "cell_type": "markdown",
      "metadata": {
        "id": "view-in-github",
        "colab_type": "text"
      },
      "source": [
        "<a href=\"https://colab.research.google.com/github/noobylub/APCSA/blob/master/LELA60331_Week_4_Seminar.ipynb\" target=\"_parent\"><img src=\"https://colab.research.google.com/assets/colab-badge.svg\" alt=\"Open In Colab\"/></a>"
      ]
    },
    {
      "cell_type": "markdown",
      "id": "ada7675f",
      "metadata": {
        "id": "ada7675f"
      },
      "source": [
        "# LELA60331 Computational Linguistics 1 Week 4"
      ]
    },
    {
      "cell_type": "markdown",
      "id": "90da35a9",
      "metadata": {
        "id": "90da35a9"
      },
      "source": [
        "This week we are going to look at vector-based models of word meaning. I am first of all going to have to introduce  a Python library called Numpy (https://numpy.org/devdocs/user/absolute_beginners.html).\n",
        "\n",
        "### Numpy\n",
        "\n",
        "Numpy is widely used for representing and processing arrays, including multidimensional arrays (known to us as Vectors/Matrices/Tensors). It is fast, intuitive and has lots of helpful built-in functions (we will make use of some of these later in the semester).\n",
        "\n",
        "To use numpy we need to import it as follows. The naming of numpy as np is a widely-used convention."
      ]
    },
    {
      "cell_type": "code",
      "execution_count": null,
      "id": "971f666e",
      "metadata": {
        "id": "971f666e"
      },
      "outputs": [],
      "source": [
        "import numpy as np"
      ]
    },
    {
      "cell_type": "markdown",
      "id": "a7c38f9d",
      "metadata": {
        "id": "a7c38f9d"
      },
      "source": [
        "We can create empty numpy arrays as follows:"
      ]
    },
    {
      "cell_type": "code",
      "execution_count": null,
      "id": "9d6e5e2a",
      "metadata": {
        "id": "9d6e5e2a"
      },
      "outputs": [],
      "source": [
        "# For a 1 dimensional colarray\n",
        "p =   np.zeros(4)"
      ]
    },
    {
      "cell_type": "code",
      "source": [
        "p"
      ],
      "metadata": {
        "colab": {
          "base_uri": "https://localhost:8080/"
        },
        "id": "ogG8GMvcvoQR",
        "outputId": "41be2e80-b36e-483f-84bf-fbe8ea24e962"
      },
      "id": "ogG8GMvcvoQR",
      "execution_count": null,
      "outputs": [
        {
          "output_type": "execute_result",
          "data": {
            "text/plain": [
              "array([0., 0., 0., 0.])"
            ]
          },
          "metadata": {},
          "execution_count": 4
        }
      ]
    },
    {
      "cell_type": "code",
      "execution_count": null,
      "id": "8bb2919d",
      "metadata": {
        "id": "8bb2919d"
      },
      "outputs": [],
      "source": [
        "# For a 2 dimensional array\n",
        "np.zeros((4, 5))"
      ]
    },
    {
      "cell_type": "markdown",
      "id": "ce2657b7",
      "metadata": {
        "id": "ce2657b7"
      },
      "source": [
        "We can also create them from Python lists as follows:"
      ]
    },
    {
      "cell_type": "code",
      "execution_count": null,
      "id": "ccd4ec01",
      "metadata": {
        "id": "ccd4ec01"
      },
      "outputs": [],
      "source": [
        "# Example vector\n",
        "np.array([9,2,3,5])"
      ]
    },
    {
      "cell_type": "code",
      "execution_count": null,
      "id": "e79c1cc7",
      "metadata": {
        "id": "e79c1cc7"
      },
      "outputs": [],
      "source": [
        "# Example rank 2 tensor (specificaly a 2x4 matrix)\n",
        "np.array(([9,2,3,5],[4,6,7,3]))"
      ]
    },
    {
      "cell_type": "code",
      "execution_count": null,
      "id": "38b85e46",
      "metadata": {
        "id": "38b85e46"
      },
      "outputs": [],
      "source": [
        "# Example rank 3 tensor 3x2x4\n",
        "p= np.array([[[0, 1, 2, 3],[4, 5, 6, 7]],[[0, 1, 2, 3],[4, 5, 6, 7]],[[0 ,1 ,2, 3],[4, 5, 6, 7]]])"
      ]
    },
    {
      "cell_type": "code",
      "source": [
        "p"
      ],
      "metadata": {
        "id": "anLjX7Ekv0N5",
        "outputId": "f16f2b89-dd90-4aa5-f616-229a3cb6fa81",
        "colab": {
          "base_uri": "https://localhost:8080/"
        }
      },
      "id": "anLjX7Ekv0N5",
      "execution_count": null,
      "outputs": [
        {
          "output_type": "execute_result",
          "data": {
            "text/plain": [
              "array([[[0, 1, 2, 3],\n",
              "        [4, 5, 6, 7]],\n",
              "\n",
              "       [[0, 1, 2, 3],\n",
              "        [4, 5, 6, 7]],\n",
              "\n",
              "       [[0, 1, 2, 3],\n",
              "        [4, 5, 6, 7]]])"
            ]
          },
          "metadata": {},
          "execution_count": 6
        }
      ]
    },
    {
      "cell_type": "markdown",
      "id": "ff176ea1",
      "metadata": {
        "id": "ff176ea1"
      },
      "source": [
        "The arrays must be rectangular, not ragged, or you will see the following error"
      ]
    },
    {
      "cell_type": "code",
      "execution_count": null,
      "id": "e9a79791",
      "metadata": {
        "id": "e9a79791",
        "colab": {
          "base_uri": "https://localhost:8080/",
          "height": 159
        },
        "outputId": "67ae16cf-0577-4162-bb7c-a50488c7baee"
      },
      "outputs": [
        {
          "output_type": "error",
          "ename": "ValueError",
          "evalue": "setting an array element with a sequence. The requested array has an inhomogeneous shape after 1 dimensions. The detected shape was (3,) + inhomogeneous part.",
          "traceback": [
            "\u001b[0;31m---------------------------------------------------------------------------\u001b[0m",
            "\u001b[0;31mValueError\u001b[0m                                Traceback (most recent call last)",
            "\u001b[0;32m/tmp/ipython-input-1802741343.py\u001b[0m in \u001b[0;36m<cell line: 0>\u001b[0;34m()\u001b[0m\n\u001b[1;32m      1\u001b[0m \u001b[0;31m# Example 3-dimensional array\u001b[0m\u001b[0;34m\u001b[0m\u001b[0;34m\u001b[0m\u001b[0m\n\u001b[0;32m----> 2\u001b[0;31m \u001b[0mnp\u001b[0m\u001b[0;34m.\u001b[0m\u001b[0marray\u001b[0m\u001b[0;34m(\u001b[0m\u001b[0;34m(\u001b[0m\u001b[0;34m[\u001b[0m\u001b[0;36m9\u001b[0m\u001b[0;34m,\u001b[0m\u001b[0;36m2\u001b[0m\u001b[0;34m,\u001b[0m\u001b[0;36m3\u001b[0m\u001b[0;34m,\u001b[0m\u001b[0;36m5\u001b[0m\u001b[0;34m]\u001b[0m\u001b[0;34m,\u001b[0m\u001b[0;34m[\u001b[0m\u001b[0;36m4\u001b[0m\u001b[0;34m,\u001b[0m\u001b[0;36m6\u001b[0m\u001b[0;34m,\u001b[0m\u001b[0;36m7\u001b[0m\u001b[0;34m,\u001b[0m\u001b[0;36m3\u001b[0m\u001b[0;34m]\u001b[0m\u001b[0;34m,\u001b[0m\u001b[0;34m[\u001b[0m\u001b[0;36m5\u001b[0m\u001b[0;34m,\u001b[0m\u001b[0;36m7\u001b[0m\u001b[0;34m,\u001b[0m\u001b[0;36m1\u001b[0m\u001b[0;34m,\u001b[0m\u001b[0;36m2\u001b[0m\u001b[0;34m,\u001b[0m\u001b[0;36m7\u001b[0m\u001b[0;34m]\u001b[0m\u001b[0;34m)\u001b[0m\u001b[0;34m)\u001b[0m\u001b[0;34m\u001b[0m\u001b[0;34m\u001b[0m\u001b[0m\n\u001b[0m",
            "\u001b[0;31mValueError\u001b[0m: setting an array element with a sequence. The requested array has an inhomogeneous shape after 1 dimensions. The detected shape was (3,) + inhomogeneous part."
          ]
        }
      ],
      "source": [
        "# Example 3-dimensional array\n",
        "np.array(([9,2,3,5],[4,6,7,3],[5,7,1,2,7]))"
      ]
    },
    {
      "cell_type": "markdown",
      "id": "1f1ec48d",
      "metadata": {
        "id": "1f1ec48d"
      },
      "source": [
        "Just as with Python lists we can use indices to find individual values:"
      ]
    },
    {
      "cell_type": "code",
      "execution_count": null,
      "id": "441da308",
      "metadata": {
        "id": "441da308"
      },
      "outputs": [],
      "source": [
        "a=np.array([9,2,3,5])\n",
        "a[1]"
      ]
    },
    {
      "cell_type": "markdown",
      "id": "56c4a2f0",
      "metadata": {
        "id": "56c4a2f0"
      },
      "source": [
        "And ranges:"
      ]
    },
    {
      "cell_type": "code",
      "execution_count": null,
      "id": "5ce4d67f",
      "metadata": {
        "id": "5ce4d67f"
      },
      "outputs": [],
      "source": [
        "a[1:3]"
      ]
    },
    {
      "cell_type": "markdown",
      "id": "c7554d40",
      "metadata": {
        "id": "c7554d40"
      },
      "source": [
        "We can do the same for multidimensional arrays. Indexes should be in the order of nesting. So for a rank 2 tensor the row index comes first and the column second:"
      ]
    },
    {
      "cell_type": "code",
      "execution_count": null,
      "id": "0a349925",
      "metadata": {
        "id": "0a349925"
      },
      "outputs": [],
      "source": [
        "a=np.array(([9, 2, 3, 5],\n",
        "       [4, 6, 7, 3],\n",
        "       [5, 7, 1, 2]))\n",
        "a[1,0]"
      ]
    },
    {
      "cell_type": "markdown",
      "id": "NnpI4piTiONt",
      "metadata": {
        "id": "NnpI4piTiONt"
      },
      "source": [
        "We can assign values to particular positions in our tensor using indices:"
      ]
    },
    {
      "cell_type": "code",
      "execution_count": null,
      "id": "0gdNA5noiV2O",
      "metadata": {
        "id": "0gdNA5noiV2O"
      },
      "outputs": [],
      "source": [
        "a[0,0] = 1000\n",
        "a[2,1] = 2000\n",
        "print(a)"
      ]
    },
    {
      "cell_type": "markdown",
      "id": "c9d4e258",
      "metadata": {
        "id": "c9d4e258"
      },
      "source": [
        "For vectors we can perform the operations that we learned about in our lecture as follows:"
      ]
    },
    {
      "cell_type": "code",
      "execution_count": null,
      "id": "afbac1a2",
      "metadata": {
        "id": "afbac1a2"
      },
      "outputs": [],
      "source": [
        "# Vector addition\n",
        "a = np.array(([9,2,3,5]))\n",
        "b = np.array(([1,2,3,4]))\n",
        "c=a+b\n",
        "print(a)\n",
        "print(b)\n",
        "print(c)"
      ]
    },
    {
      "cell_type": "code",
      "execution_count": null,
      "id": "66918d14",
      "metadata": {
        "id": "66918d14"
      },
      "outputs": [],
      "source": [
        "# Vector subtraction\n",
        "a = np.array(([9,2,3,5]))\n",
        "b = np.array(([1,2,3,4]))\n",
        "c=a-b\n",
        "print(a)\n",
        "print(b)\n",
        "print(c)"
      ]
    },
    {
      "cell_type": "code",
      "execution_count": null,
      "id": "a88746e5",
      "metadata": {
        "id": "a88746e5",
        "scrolled": true
      },
      "outputs": [],
      "source": [
        "# Dot product\n",
        "a = np.array(([9,2,3,5]))\n",
        "b = np.array(([1,2,3,4]))\n",
        "c=a*b\n",
        "dp=sum(c)\n",
        "print(a)\n",
        "print(b)\n",
        "print(c)\n",
        "print(dp)"
      ]
    },
    {
      "cell_type": "markdown",
      "id": "8f556a48",
      "metadata": {
        "id": "8f556a48"
      },
      "source": [
        "Problem 1: Write the code to calculate the cosine of the angle between vector a and vector b. You might need to refer to your lecture notes"
      ]
    },
    {
      "cell_type": "code",
      "execution_count": 7,
      "id": "ab8da4d8",
      "metadata": {
        "id": "ab8da4d8"
      },
      "outputs": [],
      "source": [
        "import numpy as np\n",
        "\n",
        "a = np.array(([9,2,3,5]))\n",
        "b = np.array(([1,2,3,4]))\n",
        "magnitude = np.linalg.norm(a)\n",
        "\n",
        "magnitude2 = np.linalg.norm(b)\n",
        "cosine_similairty = sum(a *b ) / (magnitude * magnitude2)\n"
      ]
    },
    {
      "cell_type": "code",
      "source": [
        "cosine_similairty"
      ],
      "metadata": {
        "id": "8mUHK-99yu0u",
        "outputId": "c2f70bdd-f40c-485c-fb47-42c479d3e1dd",
        "colab": {
          "base_uri": "https://localhost:8080/"
        }
      },
      "id": "8mUHK-99yu0u",
      "execution_count": 8,
      "outputs": [
        {
          "output_type": "execute_result",
          "data": {
            "text/plain": [
              "np.float64(0.7029350233548073)"
            ]
          },
          "metadata": {},
          "execution_count": 8
        }
      ]
    },
    {
      "cell_type": "markdown",
      "id": "_tlmiFQjfwMi",
      "metadata": {
        "id": "_tlmiFQjfwMi"
      },
      "source": [
        "### Building Word Vectors"
      ]
    },
    {
      "cell_type": "code",
      "execution_count": 9,
      "id": "b939aded",
      "metadata": {
        "id": "b939aded",
        "outputId": "4e3d42fc-72d3-48b7-d420-6ea7a78f327d",
        "colab": {
          "base_uri": "https://localhost:8080/"
        }
      },
      "outputs": [
        {
          "output_type": "stream",
          "name": "stdout",
          "text": [
            "--2025-10-20 13:32:58--  https://www.gutenberg.org/files/2554/2554-0.txt\n",
            "Resolving www.gutenberg.org (www.gutenberg.org)... 152.19.134.47, 2610:28:3090:3000:0:bad:cafe:47\n",
            "Connecting to www.gutenberg.org (www.gutenberg.org)|152.19.134.47|:443... connected.\n",
            "HTTP request sent, awaiting response... 200 OK\n",
            "Length: 1159923 (1.1M) [text/plain]\n",
            "Saving to: ‘2554-0.txt’\n",
            "\n",
            "2554-0.txt          100%[===================>]   1.11M  3.64MB/s    in 0.3s    \n",
            "\n",
            "2025-10-20 13:32:59 (3.64 MB/s) - ‘2554-0.txt’ saved [1159923/1159923]\n",
            "\n"
          ]
        }
      ],
      "source": [
        "import re\n",
        "# download from from the internt\n",
        "!wget https://www.gutenberg.org/files/2554/2554-0.txt\n",
        "# Or in Jupyter\n",
        "#from urllib.request import urlretrieve\n",
        "#url = \"https://www.gutenberg.org/files/2554/2554-0.txt\"\n",
        "#filename=\"2554-0.txt\"\n",
        "#urlretrieve(url, filename)\n",
        "# read in the file\n",
        "f = open('2554-0.txt')\n",
        "c_and_p = f.read()\n",
        "# select the first chapter - possible because I determined range\n",
        "c_and_p = c_and_p[5464:]\n",
        "# convert text to lower case\n",
        "c_and_p=c_and_p.lower()\n",
        "c_and_p=re.sub('\\n',' ', c_and_p)\n",
        "c_and_p=re.sub('[^a-z ]','', c_and_p)\n",
        "c_and_p=re.split(\" \", c_and_p)"
      ]
    },
    {
      "cell_type": "code",
      "source": [
        "\n"
      ],
      "metadata": {
        "id": "zJqMJkKBsjfE"
      },
      "id": "zJqMJkKBsjfE",
      "execution_count": null,
      "outputs": []
    },
    {
      "cell_type": "code",
      "execution_count": 10,
      "id": "ebf7a664",
      "metadata": {
        "id": "ebf7a664",
        "outputId": "cd9357ee-97e3-461f-d12b-5df1084d8820",
        "colab": {
          "base_uri": "https://localhost:8080/"
        }
      },
      "outputs": [
        {
          "output_type": "execute_result",
          "data": {
            "text/plain": [
              "['time', 'past', 'he', 'had', 'been', 'in', 'an', 'overstrained', 'irritable']"
            ]
          },
          "metadata": {},
          "execution_count": 10
        }
      ],
      "source": [
        "c_and_p[1:10]"
      ]
    },
    {
      "cell_type": "markdown",
      "source": [
        "Problem 2 (to be tackled collectively): Write code to create a word-by-word matrix"
      ],
      "metadata": {
        "id": "YzgYbgmkbmaE"
      },
      "id": "YzgYbgmkbmaE"
    },
    {
      "cell_type": "code",
      "execution_count": 11,
      "id": "33bfcf79",
      "metadata": {
        "id": "33bfcf79"
      },
      "outputs": [],
      "source": [
        "token_count = len(c_and_p)\n",
        "type_list = list(set(c_and_p))\n",
        "# The type count is the number of unique words. The token count is the total number of words including repetitions.\n",
        "type_count = len(type_list)\n",
        "# We create a matrix in which to store the counts for each word-by-word co-occurence\n",
        "M = np.zeros((type_count, type_count))\n",
        "window_size = 2\n",
        "\n",
        "# COMPLETE CODE"
      ]
    },
    {
      "cell_type": "code",
      "source": [
        "type_count"
      ],
      "metadata": {
        "id": "NXfNV5-01Ua8",
        "outputId": "123c0136-4710-4b36-f6f1-97911b3c9b40",
        "colab": {
          "base_uri": "https://localhost:8080/"
        }
      },
      "id": "NXfNV5-01Ua8",
      "execution_count": 14,
      "outputs": [
        {
          "output_type": "execute_result",
          "data": {
            "text/plain": [
              "10246"
            ]
          },
          "metadata": {},
          "execution_count": 14
        }
      ]
    },
    {
      "cell_type": "markdown",
      "id": "1YQ4NRDBrGFo",
      "metadata": {
        "id": "1YQ4NRDBrGFo"
      },
      "source": [
        "Problem 3: Calculate the cosine between \"walk\" and \"run\", and between \"walk\" and \"shine\". What does the outcome tell us?"
      ]
    },
    {
      "cell_type": "code",
      "execution_count": null,
      "id": "EoaXoRczhqbi",
      "metadata": {
        "id": "EoaXoRczhqbi"
      },
      "outputs": [],
      "source": [
        "w1 = \"walk\"\n",
        "w2 = \"run\"\n",
        "w3 = \"shine\"\n",
        "w1_index = type_list.index(w1)\n",
        "w2_index = type_list.index(w2)\n",
        "w3_index = type_list.index(w3)"
      ]
    },
    {
      "cell_type": "markdown",
      "source": [
        "### Pretrained embeddings\n",
        "\n",
        "Vectors are best when learned from very large text collections. However learning such vectors, particularly using neural network methods rather than simple counting, is very computationally intensive. As a result most people make use of pretrained embeddings such as those found at\n",
        "\n",
        "https://code.google.com/archive/p/word2vec/\n",
        "\n",
        "or\n",
        "\n",
        "https://nlp.stanford.edu/projects/glove/"
      ],
      "metadata": {
        "id": "G20YY35vjV53"
      },
      "id": "G20YY35vjV53"
    },
    {
      "cell_type": "code",
      "source": [
        "!wget http://nlp.stanford.edu/data/glove.6B.zip\n",
        "#from urllib.request import urlretrieve\n",
        "#url = \"http://nlp.stanford.edu/data/glove.6B.zip\"\n",
        "#filename=\"glove.6B.zip\"\n",
        "#urlretrieve(url, filename)\n",
        "!unzip -q glove.6B.zip"
      ],
      "metadata": {
        "id": "0z2ZU1KzaFWQ"
      },
      "id": "0z2ZU1KzaFWQ",
      "execution_count": null,
      "outputs": []
    },
    {
      "cell_type": "code",
      "source": [
        "import numpy as np\n",
        "embedding_file = 'glove.6B.100d.txt'\n",
        "#embedding_file = f.read()\n",
        "embeddings=[]\n",
        "type_list=[]\n",
        "with open(embedding_file) as fp:\n",
        "            for line in fp.readlines():\n",
        "                line = line.split(\" \")\n",
        "                word = line[0]\n",
        "                vec = np.array([float(x) for x in line[1:]])\n",
        "                type_list.append(word)\n",
        "                embeddings.append(vec)\n",
        "M=np.array((embeddings))"
      ],
      "metadata": {
        "id": "grtFYZDcfrvZ"
      },
      "id": "grtFYZDcfrvZ",
      "execution_count": null,
      "outputs": []
    },
    {
      "cell_type": "code",
      "source": [
        "w1 = \"football\"\n",
        "w2 = \"rugby\"\n",
        "w3 = \"cricket\"\n",
        "w1_index = type_list.index(w1)\n",
        "w2_index = type_list.index(w2)\n",
        "w3_index = type_list.index(w3)\n",
        "w1_vec=M[w1_index,]\n",
        "w2_vec=M[w2_index,]\n",
        "w3_vec=M[w3_index,]"
      ],
      "metadata": {
        "id": "P190dF8Kq3VW"
      },
      "id": "P190dF8Kq3VW",
      "execution_count": null,
      "outputs": []
    },
    {
      "cell_type": "markdown",
      "source": [
        "Problem 3. Calculate the cosine between the words above. What do the cosine values tell us?"
      ],
      "metadata": {
        "id": "6WYSDJLF7h2l"
      },
      "id": "6WYSDJLF7h2l"
    },
    {
      "cell_type": "markdown",
      "source": [
        "# Finding the most similar words\n",
        "\n",
        "One thing we often want to do is to find the most similar words to a given word/vector. An exhaustive N x N comparison is very time consuming, and so we can make use of an efficient \"nearest neighbours\" finding algorithm. We are just using this algorithm here so we won't go into it in any detail. We use the implementation in the Scikitlearn toolkit, which we will learn more about in the Python programming sessions in RM in CCL 2."
      ],
      "metadata": {
        "id": "1b6fOj5BTFjn"
      },
      "id": "1b6fOj5BTFjn"
    },
    {
      "cell_type": "code",
      "source": [
        "from sklearn.neighbors import NearestNeighbors\n",
        "nbrs = NearestNeighbors(n_neighbors=5, algorithm='ball_tree').fit(M)"
      ],
      "metadata": {
        "id": "gutnPC3Dv-KV"
      },
      "id": "gutnPC3Dv-KV",
      "execution_count": null,
      "outputs": []
    },
    {
      "cell_type": "code",
      "source": [
        "w=\"football\"\n",
        "w_index = type_list.index(w)\n",
        "w_vec = M[w_index,]\n",
        "for i in nbrs.kneighbors([w_vec])[1][0]:\n",
        "  print(type_list[i])"
      ],
      "metadata": {
        "id": "kgcxDOU70gYO"
      },
      "id": "kgcxDOU70gYO",
      "execution_count": null,
      "outputs": []
    },
    {
      "cell_type": "markdown",
      "source": [
        "Problem 4. Find some examples where the system fails and explain why you think it has done so."
      ],
      "metadata": {
        "id": "144-ZuZ37R9L"
      },
      "id": "144-ZuZ37R9L"
    },
    {
      "cell_type": "markdown",
      "source": [
        "### Analogical reasoning"
      ],
      "metadata": {
        "id": "3U1nSPzz6637"
      },
      "id": "3U1nSPzz6637"
    },
    {
      "cell_type": "markdown",
      "id": "47e0b00f-2595-4402-8492-54e0ee364824",
      "metadata": {
        "id": "47e0b00f-2595-4402-8492-54e0ee364824"
      },
      "source": [
        "Another semantic property of embeddings is their ability to capture relational meanings. In an important early vector space model of cognition, Rumelhart and Abrahamson (1973) proposed the parallelogram model for solving simple analogy problems of the form a is to b as a* is to what?. In such problems, a system given a problem like apple:tree::grape:?, i.e., apple is to tree as  grape is to , and must fill in the word vine.\n",
        "\n",
        "In the parallelogram model, the vector from the word apple to the word tree (= tree − apple) is added to the vector for grape (grape); the nearest word to that point is returned.\n",
        "\n",
        "\n",
        "\n"
      ]
    },
    {
      "cell_type": "markdown",
      "source": [
        "Problem 4: Complete the code below so that it solves the analogical reasoning problem. Come up with a analogical reasoning problem of your own and use the code to solve it."
      ],
      "metadata": {
        "id": "RoEUVpho6bY_"
      },
      "id": "RoEUVpho6bY_"
    },
    {
      "cell_type": "code",
      "execution_count": null,
      "id": "065739ee-7ef2-4471-b33e-6d61c41cf7f2",
      "metadata": {
        "id": "065739ee-7ef2-4471-b33e-6d61c41cf7f2"
      },
      "outputs": [],
      "source": [
        "w1 = \"apple\"\n",
        "w2 = \"tree\"\n",
        "w3 = \"grape\"\n",
        "w1_index = type_list.index(w1)\n",
        "w2_index = type_list.index(w2)\n",
        "w3_index = type_list.index(w3)\n",
        "w1_vec = M[w1_index,]\n",
        "w2_vec = M[w2_index,]\n",
        "w3_vec = M[w3_index,]\n",
        "\n",
        "spatial_relationship = ???\n",
        "w4_vec = ???\n",
        "nbrs.kneighbors([w4_vec])\n",
        "for i in nbrs.kneighbors([w4_vec])[1][0]:\n",
        "  print(type_list[i])"
      ]
    }
  ],
  "metadata": {
    "colab": {
      "provenance": [],
      "machine_shape": "hm",
      "include_colab_link": true
    },
    "kernelspec": {
      "display_name": "Python 3",
      "name": "python3"
    },
    "language_info": {
      "codemirror_mode": {
        "name": "ipython",
        "version": 3
      },
      "file_extension": ".py",
      "mimetype": "text/x-python",
      "name": "python",
      "nbconvert_exporter": "python",
      "pygments_lexer": "ipython3",
      "version": "3.9.12"
    }
  },
  "nbformat": 4,
  "nbformat_minor": 5
}